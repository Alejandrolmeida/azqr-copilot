{
 "cells": [
  {
   "cell_type": "code",
   "execution_count": 1,
   "metadata": {},
   "outputs": [],
   "source": [
    "import os\n",
    "from pathlib import Path\n",
    "\n",
    "from promptflow import PFClient\n",
    "from promptflow.entities import (\n",
    "    AzureOpenAIConnection,\n",
    "    CustomConnection,\n",
    "    CognitiveSearchConnection,\n",
    ")\n",
    "from dotenv import load_dotenv\n",
    "\n",
    "load_dotenv(\"../.env\")\n",
    "\n",
    "pf = PFClient()"
   ]
  },
  {
   "cell_type": "code",
   "execution_count": 2,
   "metadata": {},
   "outputs": [
    {
     "name": "stdout",
     "output_type": "stream",
     "text": [
      "Creating connection azure-ai...\n",
      "name: azure-ai\n",
      "module: promptflow.connections\n",
      "created_date: '2024-04-14T01:41:38.706449'\n",
      "last_modified_date: '2024-04-14T01:41:38.706449'\n",
      "type: azure_open_ai\n",
      "api_key: '******'\n",
      "api_base: https://ai-azqr.openai.azure.com/\n",
      "api_type: azure\n",
      "api_version: 2024-03-01-preview\n",
      "\n"
     ]
    }
   ],
   "source": [
    "# Create local Azure OpenAI Connection\n",
    "AI_KEY= os.environ[\"AZURE_AI_SERVICES_KEY\"]\n",
    "AI_ENDPOINT= os.environ[\"AZURE_AI_SERVICES_ENDPOINT\"]\n",
    "AI_VERSION= os.environ[\"AZURE_AI_SERVICES_VERSION\"]\n",
    "\n",
    "connection = AzureOpenAIConnection(\n",
    "    name=\"azure-ai\",\n",
    "    api_key=AI_KEY,\n",
    "    api_base=AI_ENDPOINT,\n",
    "    api_type=\"azure\",\n",
    "    api_version=AI_VERSION,\n",
    ")\n",
    "\n",
    "print(f\"Creating connection {connection.name}...\")\n",
    "result = pf.connections.create_or_update(connection)\n",
    "print(result)"
   ]
  },
  {
   "cell_type": "code",
   "execution_count": 2,
   "metadata": {},
   "outputs": [
    {
     "name": "stdout",
     "output_type": "stream",
     "text": [
      "Creating connection azqr-cosmos...\n",
      "name: azqr-cosmos\n",
      "module: promptflow.connections\n",
      "created_date: '2024-04-14T20:59:30.773510'\n",
      "last_modified_date: '2024-04-14T20:59:30.773510'\n",
      "type: custom\n",
      "configs:\n",
      "  endpoint: https://cosmos-azqr.documents.azure.com:443/\n",
      "  databaseId: azqr-database\n",
      "  containerId: customers\n",
      "secrets:\n",
      "  key: '******'\n",
      "\n"
     ]
    }
   ],
   "source": [
    "# Create the local azqr-cosmos connection\n",
    "COSMOS_ENDPOINT = os.environ[\"COSMOS_ENDPOINT\"]\n",
    "COSMOS_KEY = os.environ[\"COSMOS_KEY\"]\n",
    "DATABASE_ID = \"azqr-database\"\n",
    "CONTAINER_ID = \"customers\"\n",
    "\n",
    "connection = CustomConnection(\n",
    "    name=\"azqr-cosmos\",\n",
    "    configs={\n",
    "        \"endpoint\": COSMOS_ENDPOINT,\n",
    "        \"databaseId\": DATABASE_ID,\n",
    "        \"containerId\": CONTAINER_ID,\n",
    "    },\n",
    "    secrets={\"key\": COSMOS_KEY},\n",
    ")\n",
    "\n",
    "print(f\"Creating connection {connection.name}...\")\n",
    "result = pf.connections.create_or_update(connection)\n",
    "print(result)"
   ]
  },
  {
   "cell_type": "code",
   "execution_count": 3,
   "metadata": {},
   "outputs": [
    {
     "name": "stdout",
     "output_type": "stream",
     "text": [
      "Creating connection azqr-search...\n",
      "name: azqr-search\n",
      "module: promptflow.connections\n",
      "created_date: '2024-04-14T20:59:35.229752'\n",
      "last_modified_date: '2024-04-14T20:59:35.229752'\n",
      "type: cognitive_search\n",
      "api_key: '******'\n",
      "api_base: https://search-azqr.search.windows.net/\n",
      "api_version: 2024-03-01-preview\n",
      "\n"
     ]
    }
   ],
   "source": [
    "# Create the local azqr-search connection\n",
    "SEARCH_ENDPOINT = os.environ[\"AZURE_SEARCH_ENDPOINT\"]\n",
    "SEARCH_KEY = os.environ[\"AZURE_SEARCH_KEY\"]\n",
    "API_VERSION = os.environ[\"AZURE_AI_SERVICES_VERSION\"]\n",
    "\n",
    "connection = CognitiveSearchConnection(\n",
    "    name=\"azqr-search\",\n",
    "    api_key=SEARCH_KEY,\n",
    "    api_base=SEARCH_ENDPOINT,\n",
    "    api_version=API_VERSION,\n",
    ")\n",
    "\n",
    "print(f\"Creating connection {connection.name}...\")\n",
    "result = pf.connections.create_or_update(connection)\n",
    "print(result)"
   ]
  }
 ],
 "metadata": {
  "kernelspec": {
   "display_name": "Python 3",
   "language": "python",
   "name": "python3"
  },
  "language_info": {
   "codemirror_mode": {
    "name": "ipython",
    "version": 3
   },
   "file_extension": ".py",
   "mimetype": "text/x-python",
   "name": "python",
   "nbconvert_exporter": "python",
   "pygments_lexer": "ipython3",
   "version": "3.10.13"
  }
 },
 "nbformat": 4,
 "nbformat_minor": 2
}
